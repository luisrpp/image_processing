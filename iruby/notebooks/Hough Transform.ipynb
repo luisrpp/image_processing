{
 "cells": [
  {
   "cell_type": "markdown",
   "metadata": {},
   "source": [
    "# Image Processing in Ruby\n",
    "\n",
    "## Hough Transform\n",
    "\n",
    "In this notebook, we will use the Hough Transform to detect lines in images.\n",
    "\n",
    "The algorithm was implemented in Ruby and is part of the [image_processing](https://github.com/luisrpp/image_processing) gem."
   ]
  },
  {
   "cell_type": "markdown",
   "metadata": {},
   "source": [
    "### Importing the gem and defining the display method\n",
    "\n",
    "The first step is to import the *image_processing* gem."
   ]
  },
  {
   "cell_type": "code",
   "execution_count": null,
   "metadata": {},
   "outputs": [],
   "source": [
    "require 'image_processing'"
   ]
  },
  {
   "cell_type": "markdown",
   "metadata": {},
   "source": [
    "### Loading the image"
   ]
  },
  {
   "cell_type": "code",
   "execution_count": null,
   "metadata": {},
   "outputs": [],
   "source": [
    "image = Vips::Image.new_from_file('../../samples/lane.jpg')\n",
    "image.display"
   ]
  },
  {
   "cell_type": "markdown",
   "metadata": {},
   "source": [
    "### Image pre-processing"
   ]
  },
  {
   "cell_type": "markdown",
   "metadata": {},
   "source": [
    "Converting the image to greyscale:"
   ]
  },
  {
   "cell_type": "code",
   "execution_count": null,
   "metadata": {},
   "outputs": [],
   "source": [
    "grey = image.to_greyscale\n",
    "grey.display"
   ]
  },
  {
   "cell_type": "markdown",
   "metadata": {},
   "source": [
    "Applying the morphological gradient to make the boundaries more evident:"
   ]
  },
  {
   "cell_type": "code",
   "execution_count": null,
   "metadata": {},
   "outputs": [],
   "source": [
    "gradient = ImageProcessing::Morphology.gradient(grey)\n",
    "gradient.display"
   ]
  },
  {
   "cell_type": "markdown",
   "metadata": {},
   "source": [
    "The morphological gradient on greyscale images usually are sensible to noise. Let's filter the image by applying a threshold:"
   ]
  },
  {
   "cell_type": "code",
   "execution_count": null,
   "metadata": {},
   "outputs": [],
   "source": [
    "filtered_gradient = gradient.threshold(gradient.max / 2)\n",
    "filtered_gradient.display"
   ]
  },
  {
   "cell_type": "markdown",
   "metadata": {},
   "source": [
    "### Detecting lines"
   ]
  },
  {
   "cell_type": "code",
   "execution_count": null,
   "metadata": {},
   "outputs": [],
   "source": [
    "hough_transform = ImageProcessing::HoughTransform.new(filtered_gradient)\n",
    "\n",
    "lines = hough_transform.find_lines(theta_res: Math::PI / 540, rho_res: 0.25, threshold: 60)\n",
    "\n",
    "lines.each { |line| IRuby.display(line) }; puts ''"
   ]
  },
  {
   "cell_type": "code",
   "execution_count": null,
   "metadata": {},
   "outputs": [],
   "source": [
    "hough_transform.accumulator_image.display"
   ]
  },
  {
   "cell_type": "code",
   "execution_count": null,
   "metadata": {},
   "outputs": [],
   "source": [
    "result = image.draw_lines([0.0, 0.0, 255.0], lines)\n",
    "result.display"
   ]
  },
  {
   "cell_type": "code",
   "execution_count": null,
   "metadata": {},
   "outputs": [],
   "source": []
  }
 ],
 "metadata": {
  "kernelspec": {
   "display_name": "Ruby 2.4.2",
   "language": "ruby",
   "name": "ruby"
  },
  "language_info": {
   "file_extension": ".rb",
   "mimetype": "application/x-ruby",
   "name": "ruby",
   "version": "2.4.2"
  }
 },
 "nbformat": 4,
 "nbformat_minor": 2
}
